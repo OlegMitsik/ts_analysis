{
 "cells": [
  {
   "cell_type": "code",
   "execution_count": 11,
   "metadata": {
    "collapsed": true
   },
   "outputs": [],
   "source": [
    "import os\n",
    "import pickle\n",
    "\n",
    "import random\n",
    "import pandas as pd\n",
    "import numpy as np\n",
    "\n",
    "from datetime import date, datetime, timedelta\n",
    "\n",
    "import matplotlib.pyplot as plt\n",
    "from mpl_toolkits.mplot3d import Axes3D\n",
    "from matplotlib import cm\n",
    "\n",
    "from statsmodels.tsa.ar_model import AR\n",
    "from statsmodels.api import OLS\n",
    "from statsmodels.tools.tools import add_constant\n",
    "from statsmodels.tsa.stattools import adfuller\n",
    "from statsmodels.api import graphics\n",
    "from statsmodels.stats.diagnostic import acorr_ljungbox\n",
    "\n",
    "from sklearn.model_selection import TimeSeriesSplit, KFold, GridSearchCV, cross_val_score\n",
    "from sklearn.kernel_ridge import KernelRidge\n",
    "from sklearn.ensemble import GradientBoostingRegressor, RandomForestRegressor\n",
    "from sklearn.metrics import mean_absolute_error, make_scorer\n",
    "from sklearn.linear_model import Lasso, LinearRegression, Ridge\n",
    "from sklearn.pipeline import make_pipeline\n",
    "from sklearn.preprocessing import StandardScaler\n",
    "from sklearn.base import BaseEstimator, RegressorMixin, TransformerMixin\n",
    "from sklearn.feature_selection import RFECV\n",
    "from sklearn.ensemble import RandomForestRegressor\n",
    "\n",
    "import inspect\n",
    "import warnings\n",
    "\n",
    "from pygam import LinearGAM"
   ]
  },
  {
   "cell_type": "code",
   "execution_count": 12,
   "metadata": {
    "collapsed": true
   },
   "outputs": [],
   "source": [
    "def perdelta(start, end, delta):\n",
    "    curr = start\n",
    "    while curr < end:\n",
    "        yield curr\n",
    "        curr += delta\n",
    "\n",
    "def int_plot_3d(estimator, Vars_discretized, X, Y, free_vars, angle):\n",
    "    free_vals = []\n",
    "    for fv in range(len(free_vars)):\n",
    "        free_vals.append(random.choice(Vars_discretized[free_vars[fv]]))\n",
    "\n",
    "    pred_vals = []\n",
    "    for i in Vars_discretized[Y]:\n",
    "        cur_line = []\n",
    "        for j in Vars_discretized[X]:\n",
    "            cur_feat = len(param)*[0]\n",
    "            cur_feat[param.index(X)] = j\n",
    "            cur_feat[param.index(Y)] = i\n",
    "            for fv in range(len(free_vars)):\n",
    "                cur_feat[param.index(free_vars[fv])] = free_vals[fv]     \n",
    "            cur_feat = np.array(cur_feat).reshape(1, -1)\n",
    "            cur_line.append(estimator.predict(cur_feat)[0])\n",
    "        pred_vals.append(np.array(cur_line))\n",
    "    pred_vals = np.array(pred_vals)\n",
    "\n",
    "    plt_X, plt_Y = np.meshgrid(Vars_discretized[X], Vars_discretized[Y])\n",
    "   \n",
    "    fig = plt.figure(figsize=(10, 6))\n",
    "    ax = fig.gca(projection = '3d')\n",
    "    ax.view_init(azim = angle)\n",
    "    surf = ax.plot_surface(plt_X, plt_Y, pred_vals, cmap=cm.coolwarm, linewidth=0, antialiased=False)\n",
    "\n",
    "    plt.xlabel(X)\n",
    "    plt.ylabel(Y)\n",
    "    plt.tight_layout()\n",
    "    plt.show()\n",
    "\n",
    "def gen_basis_functions(arg, order_low, order_high):\n",
    "    output = {}\n",
    "    for i in range(order_low, order_high + 1):\n",
    "        output['x^' + str(i)] = np.power(arg, i)\n",
    "    return output\n",
    "\n",
    "def MAE(y, y_pred):\n",
    "    return np.mean(np.abs(y - y_pred))\n",
    "\n",
    "MAE_scorer = make_scorer(MAE, greater_is_better = False)\n",
    "\n",
    "def MAPE(y, y_pred):\n",
    "    return np.sum(np.abs(y - y_pred)) / np.sum(y)\n",
    "\n",
    "MAPE_scorer = make_scorer(MAPE, greater_is_better = False)\n",
    "\n",
    "def CAPE(y, y_pred):\n",
    "    return np.abs(np.sum(y - y_pred)) / np.sum(y)\n",
    "\n",
    "CAPE_scorer = make_scorer(CAPE, greater_is_better = False)\n",
    "\n",
    "def fit_grid_and_print(grid, X, y):\n",
    "    grid.fit(X, y)\n",
    "\n",
    "    print(\"Grid scores on development set:\")\n",
    "    means = grid.cv_results_['mean_test_score']\n",
    "    stds = grid.cv_results_['std_test_score']\n",
    "    for mean, std, params in zip(means, stds, grid.cv_results_['params']):\n",
    "        print(\"%0.3f (+/-%0.03f) for %r\"\n",
    "            % (mean, 2 * std, params))\n",
    "    print()\n",
    "    print(\"Best score is %0.3f.\" % grid.best_score_, \"Best parameters set found on development set:\")\n",
    "    print(grid.best_params_)\n",
    "    \n",
    "def plot_predicts(estimator, X, y, x_axis, lb_lags = 12):\n",
    "\n",
    "    y_true = y\n",
    "    y_pred = estimator.predict(X)\n",
    "\n",
    "    fig, ax = plt.subplots(figsize = (12, 4))\n",
    "    ax.plot(x_axis, y_pred, label='Predicted')\n",
    "    ax.plot(x_axis, y_true, label='Actual')\n",
    "    plt.title('Actual vs predicted')\n",
    "    plt.legend()\n",
    "    plt.show()\n",
    "\n",
    "    lb = acorr_ljungbox(y_true-y_pred, lags = lb_lags)\n",
    "    print('Ljung-Box test:')\n",
    "    print(pd.DataFrame({'stat': lb[0], 'p-value': lb[1]}, index = range(1, lb_lags+1)))\n",
    "\n",
    "def print_KFold_scores(estimator, X, y, win_len = 3):\n",
    "    MAE_scores = -cross_val_score(estimator = estimator, X = X, y = y, \n",
    "                                  cv = KFold(n_splits = len(y) // win_len), scoring = MAE_scorer)\n",
    "    MAPE_scores = -cross_val_score(estimator = estimator, X = X, y = y,\n",
    "                                   cv = KFold(n_splits = len(y) // win_len), scoring = MAPE_scorer)\n",
    "    CAPE_scores = -cross_val_score(estimator = estimator, X = X, y = y,\n",
    "                                   cv = KFold(n_splits = len(y) // win_len), scoring = CAPE_scorer)\n",
    "    \n",
    "    print(KFold(n_splits = len(y) // win_len))\n",
    "    print ()       \n",
    "    print ('Average MAE on the cross-validation set is %0.3f.' % np.mean(MAE_scores))\n",
    "    print ('Average MAPE on the cross-validation set is %0.3f%%.' % (100 * np.mean(MAPE_scores)))\n",
    "    print ('Average CAPE on the cross-validation set is %0.3f%%.' % (100 * np.mean(CAPE_scores)))\n",
    "    print ()\n",
    "    print ('Last 3 months MAE is %0.3f.' % MAE_scores[-1])\n",
    "    print ('Last 3 months MAPE is %0.3f%%.' % (100 * MAPE_scores[-1]))\n",
    "    print ('Last 3 months CAPE is %0.3f%%.' % (100 * CAPE_scores[-1])) \n",
    "\n",
    "class LinearGAM_sklearn(BaseEstimator, RegressorMixin):\n",
    "    def __init__(self, callbacks = ['deviance', 'diffs'], constraints = None, dtype = 'auto', lam = 0.6, \n",
    "                 fit_intercept = False, fit_linear = False, fit_splines = True, max_iter = 100,\n",
    "                 penalties = 'auto', n_splines = 25, scale = None, spline_order = 3, tol = 1e-4):\n",
    "        \n",
    "        args, _, _, values = inspect.getargvalues(inspect.currentframe())\n",
    "        values.pop(\"self\")\n",
    "        \n",
    "        for arg, val in values.items():\n",
    "            setattr(self, arg, val)\n",
    "    \n",
    "        self.model = LinearGAM(callbacks = self.callbacks, constraints = self.constraints, dtype = self.dtype,\n",
    "                     lam = self.lam, fit_intercept = self.fit_intercept, fit_linear = self.fit_linear,\n",
    "                     fit_splines = self.fit_splines, max_iter = self.max_iter, penalties = self.penalties,\n",
    "                     n_splines = self.n_splines, scale = self.scale, spline_order = self.spline_order, tol = self.tol)\n",
    "    \n",
    "    def set_params(self, **params):\n",
    "        for arg, val in params.items():\n",
    "            setattr(self, arg, val)\n",
    "            new_param = {arg: val}\n",
    "            self.model.set_params(**new_param)\n",
    "        \n",
    "        return self     \n",
    "    \n",
    "    def fit(self, X, y = None):\n",
    "        self.model.fit(X, y);\n",
    "                \n",
    "        return self       \n",
    "    \n",
    "    def predict(self, X, y = None):\n",
    "        \n",
    "        return self.model.predict(X)\n",
    "    \n",
    "    def summary(self):\n",
    "        \n",
    "        return self.model.summary()\n",
    "\n",
    "def generate_features(data, y, Selected_features):\n",
    "    data_res = pd.DataFrame()\n",
    "    data_res['date'] = data['date']\n",
    "    data_res[y] = data[y]\n",
    "\n",
    "    max_order = 0\n",
    "    for feat in Selected_features:\n",
    "        if feat in data.columns:\n",
    "            data_res[feat] = data[feat]\n",
    "        else:\n",
    "            if (feat[-3:-1] == '_L'):\n",
    "                feat_type = 'lag'\n",
    "            elif (feat[-3:-1] == '_d'):\n",
    "                feat_type = 'delta'\n",
    "            else:\n",
    "                feat_type = False\n",
    "            feat_order = int(feat[-1])\n",
    "\n",
    "            if (feat_type and (feat_order > 0)):\n",
    "                max_order = max(max_order, feat_order)\n",
    "\n",
    "                if (feat_type == 'lag'):\n",
    "                    data_res[feat] = data[feat[:-3]].shift(feat_order)\n",
    "                elif (feat_type == 'delta'):\n",
    "                    data_res[feat] = data[feat[:-3]].shift(feat_order-1) - data[feat[:-3]].shift(feat_order)\n",
    "\n",
    "    data_res = data_res.iloc[max_order:]\n",
    "    return data_res"
   ]
  },
  {
   "cell_type": "markdown",
   "metadata": {},
   "source": [
    "# Exploratory data analysis"
   ]
  },
  {
   "cell_type": "code",
   "execution_count": 13,
   "metadata": {
    "collapsed": true
   },
   "outputs": [],
   "source": [
    "file_name = os.getcwd().split('\\\\')[-1]\n",
    "\n",
    "xls = pd.ExcelFile(file_name + \".xlsx\")\n",
    "data = xls.parse(xls.sheet_names[0]).sort_values('date')\n",
    "\n",
    "param_data = list(data.columns)\n",
    "param_data.remove('date')\n",
    "param_data.remove('target')\n",
    "\n",
    "y = 'target'\n",
    "\n",
    "data['time_index'] = data.index.astype(float)\n",
    "data[\"month\"] = data[\"date\"].apply(lambda d: d.month)\n",
    "data[\"year\"] = data[\"date\"].apply(lambda d: d.year)\n",
    "\n",
    "data = data.dropna()\n",
    "\n",
    "CV_splits = len(data.index) // 3\n",
    "\n",
    "test_len = 0\n",
    "split_index = len(data.index) - test_len"
   ]
  },
  {
   "cell_type": "code",
   "execution_count": 14,
   "metadata": {},
   "outputs": [
    {
     "data": {
      "image/png": "[encoded data removed]",
      "text/plain": [
       "<matplotlib.figure.Figure at 0x212799b0>"
      ]
     },
     "metadata": {},
     "output_type": "display_data"
    }
   ],
   "source": [
    "fig, ax = plt.subplots(figsize = (12, 4))\n",
    "ax.plot(data['date'], data[y], label='Объем', color = 'blue')\n",
    "plt.title(y)\n",
    "plt.legend()\n",
    "plt.show()"
   ]
  },
  {
   "cell_type": "markdown",
   "metadata": {},
   "source": [
    "    "
   ]
  },
  {
   "cell_type": "markdown",
   "metadata": {},
   "source": [
    "# Regression analysis"
   ]
  },
  {
   "cell_type": "code",
   "execution_count": 15,
   "metadata": {
    "collapsed": true
   },
   "outputs": [],
   "source": [
    "data_train = data.iloc[:split_index]\n",
    "data_test = data.iloc[split_index:]"
   ]
  },
  {
   "cell_type": "markdown",
   "metadata": {},
   "source": [
    "## Step 1. Kernel regression for trend"
   ]
  },
  {
   "cell_type": "code",
   "execution_count": 17,
   "metadata": {},
   "outputs": [
    {
     "name": "stdout",
     "output_type": "stream",
     "text": [
      "Grid MAE scores on development set:\n",
      "-5052146.654 (+/-3607524.180) for {'kernelridge__alpha': 10.0, 'kernelridge__gamma': 0.01}\n",
      "-4181524.558 (+/-3984867.954) for {'kernelridge__alpha': 10.0, 'kernelridge__gamma': 0.05}\n",
      "-3661380.139 (+/-4373667.841) for {'kernelridge__alpha': 10.0, 'kernelridge__gamma': 0.1}\n",
      "-2870029.436 (+/-4714635.462) for {'kernelridge__alpha': 10.0, 'kernelridge__gamma': 0.5}\n",
      "-2707846.421 (+/-5104926.369) for {'kernelridge__alpha': 10.0, 'kernelridge__gamma': 1.0}\n",
      "-2807385.622 (+/-5834128.905) for {'kernelridge__alpha': 10.0, 'kernelridge__gamma': 2.5}\n",
      "-3051418.402 (+/-6512160.524) for {'kernelridge__alpha': 10.0, 'kernelridge__gamma': 5.0}\n",
      "-3380046.489 (+/-7346699.692) for {'kernelridge__alpha': 10.0, 'kernelridge__gamma': 10}\n",
      "-3594791.143 (+/-7875925.005) for {'kernelridge__alpha': 10.0, 'kernelridge__gamma': 15}\n",
      "-3868701.165 (+/-8522064.525) for {'kernelridge__alpha': 10.0, 'kernelridge__gamma': 25}\n",
      "\n",
      "Best MAE score is -2707846.421. Best parameters set found on development set:\n",
      "{'kernelridge__alpha': 10.0, 'kernelridge__gamma': 1.0}\n"
     ]
    },
    {
     "name": "stderr",
     "output_type": "stream",
     "text": [
      "C:\\Anaconda3\\lib\\site-packages\\sklearn\\model_selection\\_search.py:841: DeprecationWarning: The default of the `iid` parameter will change from True to False in version 0.22 and will be removed in 0.24. This will change numeric results when test-set sizes are unequal.\n",
      "  DeprecationWarning)\n"
     ]
    },
    {
     "data": {
      "image/png": "[encoded data removed]",
      "text/plain": [
       "<matplotlib.figure.Figure at 0x20596780>"
      ]
     },
     "metadata": {},
     "output_type": "display_data"
    }
   ],
   "source": [
    "estm_s1 = make_pipeline(StandardScaler(), KernelRidge(kernel = 'rbf'))\n",
    "tuned_parameters = [{'kernelridge__gamma': [0.01, 0.05, 0.1, 0.5, 1.0, 2.5, 5.0, 10, 15, 25],\n",
    "                     'kernelridge__alpha': [10.0]}]\n",
    "\n",
    "grid = GridSearchCV(estimator=estm_s1, param_grid=tuned_parameters,\n",
    "                   cv=CV_splits, scoring=\"neg_mean_absolute_error\")\n",
    "grid.fit(data_train['time_index'].values.reshape(-1, 1), data_train[y].values)\n",
    "\n",
    "print(\"Grid MAE scores on development set:\")\n",
    "means = grid.cv_results_['mean_test_score']\n",
    "stds = grid.cv_results_['std_test_score']\n",
    "for mean, std, params in zip(means, stds, grid.cv_results_['params']):\n",
    "    print(\"%0.3f (+/-%0.03f) for %r\"\n",
    "        % (mean, 2 * std, params))\n",
    "print()\n",
    "print(\"Best MAE score is %0.3f.\" % grid.best_score_, \"Best parameters set found on development set:\")\n",
    "print(grid.best_params_)\n",
    "\n",
    "estm_s1.set_params(**grid.best_params_)\n",
    "estm_s1.fit(data_train['time_index'].values.reshape(-1, 1), data_train[y].values)\n",
    "\n",
    "fig, ax = plt.subplots(figsize = (12, 4))\n",
    "ax.plot(data['date'], estm_s1.predict(data['time_index'].values.reshape(-1, 1)), label='Trend est')\n",
    "ax.plot(data['date'], data[y], label='Actual')\n",
    "plt.title('Estimated model for trend')\n",
    "plt.legend()\n",
    "plt.show()"
   ]
  },
  {
   "cell_type": "code",
   "execution_count": 18,
   "metadata": {},
   "outputs": [
    {
     "data": {
      "image/png": "[encoded data removed]",
      "text/plain": [
       "<matplotlib.figure.Figure at 0x215515f8>"
      ]
     },
     "metadata": {},
     "output_type": "display_data"
    }
   ],
   "source": [
    "data['trend_est'] = estm_s1.predict(data['time_index'].values.reshape(-1, 1))\n",
    "data['y_res1'] = data[y] - data['trend_est']\n",
    "\n",
    "fig, ax = plt.subplots(figsize = (12, 4))\n",
    "ax.plot(data['date'], data['y_res1'])\n",
    "plt.title('Residual time series after step 1')\n",
    "plt.show()"
   ]
  },
  {
   "cell_type": "markdown",
   "metadata": {},
   "source": [
    "## Step 2. Gradient boosting regression for seasonality"
   ]
  },
  {
   "cell_type": "code",
   "execution_count": 19,
   "metadata": {},
   "outputs": [
    {
     "name": "stdout",
     "output_type": "stream",
     "text": [
      "Grid scores on development set:\n",
      "-2478700.041 (+/-3279783.651) for {'n_estimators': 1}\n",
      "-2262787.452 (+/-3204450.080) for {'n_estimators': 2}\n",
      "-1770066.403 (+/-2977879.518) for {'n_estimators': 5}\n",
      "-1275720.995 (+/-2763416.571) for {'n_estimators': 10}\n",
      "-943548.434 (+/-2643757.500) for {'n_estimators': 20}\n",
      "-933191.863 (+/-2577683.939) for {'n_estimators': 30}\n",
      "-902575.644 (+/-2508285.678) for {'n_estimators': 50}\n",
      "-871033.058 (+/-2538292.801) for {'n_estimators': 100}\n",
      "-885054.723 (+/-2559706.514) for {'n_estimators': 200}\n",
      "-890273.182 (+/-2546072.133) for {'n_estimators': 300}\n",
      "-882244.964 (+/-2546391.952) for {'n_estimators': 500}\n",
      "\n",
      "Best score is -871033.058. Best parameters set found on development set:\n",
      "{'n_estimators': 100}\n"
     ]
    },
    {
     "name": "stderr",
     "output_type": "stream",
     "text": [
      "C:\\Anaconda3\\lib\\site-packages\\sklearn\\model_selection\\_search.py:841: DeprecationWarning: The default of the `iid` parameter will change from True to False in version 0.22 and will be removed in 0.24. This will change numeric results when test-set sizes are unequal.\n",
      "  DeprecationWarning)\n"
     ]
    },
    {
     "data": {
      "image/png": "[encoded data removed]",
      "text/plain": [
       "<matplotlib.figure.Figure at 0x2142d128>"
      ]
     },
     "metadata": {},
     "output_type": "display_data"
    }
   ],
   "source": [
    "param = ['trend_est', 'month']\n",
    "\n",
    "data_train = data.iloc[:split_index]\n",
    "data_test = data.iloc[split_index:]\n",
    "\n",
    "estm_s2 = GradientBoostingRegressor(learning_rate = 0.1, max_depth = 2)\n",
    "estm_s2t = GradientBoostingRegressor(learning_rate = 0.1, max_depth = 2)\n",
    "\n",
    "tuned_parameters = [{'n_estimators': [1, 2, 5, 10, 20, 30, 50, 100, 200, 300, 500]}]\n",
    "\n",
    "grid = GridSearchCV(estimator=estm_s2, param_grid=tuned_parameters,\n",
    "                   cv=CV_splits, scoring=\"neg_mean_absolute_error\")\n",
    "fit_grid_and_print(grid, X = data_train[param], y = data_train['y_res1'])\n",
    "\n",
    "estm_s2.set_params(**grid.best_params_)\n",
    "estm_s2.fit(X = data_train[param], y = data_train['y_res1'])\n",
    "\n",
    "estm_s2t.set_params(**grid.best_params_)\n",
    "estm_s2t.fit(X = data_train[['trend_est']], y = data_train['y_res1'])\n",
    "\n",
    "fig, ax = plt.subplots(figsize = (12, 4))\n",
    "ax.plot(data['date'], estm_s2.predict(data[param]) - estm_s2t.predict(data[['trend_est']]))\n",
    "plt.title('Estimated model for seasonality')\n",
    "plt.show()"
   ]
  },
  {
   "cell_type": "code",
   "execution_count": 20,
   "metadata": {},
   "outputs": [
    {
     "data": {
      "image/png": "[encoded data removed]",
      "text/plain": [
       "<matplotlib.figure.Figure at 0x21488128>"
      ]
     },
     "metadata": {},
     "output_type": "display_data"
    }
   ],
   "source": [
    "data['seas_est'] = estm_s2.predict(data[param]) - estm_s2t.predict(data[['trend_est']])\n",
    "data['y_res2'] = data['y_res1'] - data['seas_est']\n",
    "\n",
    "fig, ax = plt.subplots(figsize = (12, 4))\n",
    "ax.plot(data['date'], data['y_res2'])\n",
    "plt.title('Residual time series after step 2')\n",
    "plt.show()"
   ]
  },
  {
   "cell_type": "markdown",
   "metadata": {},
   "source": [
    "### Elements of seasonal effects and their interaction with trend"
   ]
  },
  {
   "cell_type": "code",
   "execution_count": 21,
   "metadata": {},
   "outputs": [
    {
     "name": "stdout",
     "output_type": "stream",
     "text": [
      "Importance of trend_est - 0.99\n",
      "Importance of month - 0.01\n"
     ]
    }
   ],
   "source": [
    "for i in range(len(param)):\n",
    "    print ('Importance of', param[i] + \" - \" + str(np.round(estm_s2.feature_importances_[i], 2)))    "
   ]
  },
  {
   "cell_type": "code",
   "execution_count": 22,
   "metadata": {},
   "outputs": [
    {
     "data": {
      "image/png": "[encoded data removed]",
      "text/plain": [
       "<matplotlib.figure.Figure at 0x2055aa90>"
      ]
     },
     "metadata": {},
     "output_type": "display_data"
    }
   ],
   "source": [
    "discretization_steps = 100\n",
    "Vars_discretized = {}\n",
    "Vars_discretized['trend_est'] = np.arange(data['trend_est'].min(), data['trend_est'].max() + 1, \n",
    "                    (1/discretization_steps) * (data['trend_est'].max() - data['trend_est'].min()))\n",
    "Vars_discretized['month'] = np.arange(data['month'].min(), data['month'].max() + 1, 1)\n",
    "\n",
    "X = 'trend_est'\n",
    "Y = 'month'\n",
    "free_vars = []\n",
    "\n",
    "angle = 290\n",
    "int_plot_3d(estm_s2, Vars_discretized, X, Y, free_vars, angle)"
   ]
  },
  {
   "cell_type": "markdown",
   "metadata": {},
   "source": [
    "## Step 3. Unit root test"
   ]
  },
  {
   "cell_type": "code",
   "execution_count": 23,
   "metadata": {},
   "outputs": [
    {
     "name": "stdout",
     "output_type": "stream",
     "text": [
      "stat:  -2.4093 , p-val:  0.0154\n"
     ]
    }
   ],
   "source": [
    "adf = adfuller(data['y_res2'], regression = 'nc')\n",
    "\n",
    "adf_stat = round(adf[0], 4)\n",
    "adf_p_val = round(adf[1], 4)\n",
    "\n",
    "print ('stat: ', adf_stat, ', p-val: ', adf_p_val)"
   ]
  },
  {
   "cell_type": "markdown",
   "metadata": {},
   "source": [
    "## Step 4. Autocorrelation function plots"
   ]
  },
  {
   "cell_type": "code",
   "execution_count": 24,
   "metadata": {
    "scrolled": false
   },
   "outputs": [
    {
     "data": {
      "image/png": "[encoded data removed]",
      "text/plain": [
       "<matplotlib.figure.Figure at 0x204ebac8>"
      ]
     },
     "metadata": {},
     "output_type": "display_data"
    }
   ],
   "source": [
    "fig = plt.figure(figsize = (12, 8))\n",
    "\n",
    "ax1 = fig.add_subplot(211)\n",
    "fig = graphics.tsa.plot_acf(data['y_res2'], lags = 24, ax = ax1)\n",
    "\n",
    "ax2 = fig.add_subplot(212)\n",
    "fig = graphics.tsa.plot_pacf(data['y_res2'], lags = 24, ax = ax2)\n",
    "\n",
    "plt.show()"
   ]
  },
  {
   "cell_type": "markdown",
   "metadata": {},
   "source": [
    "## Step 5. Checking collinearity of features"
   ]
  },
  {
   "cell_type": "code",
   "execution_count": 25,
   "metadata": {
    "collapsed": true
   },
   "outputs": [],
   "source": [
    "data_1 = data.copy()\n",
    "\n",
    "data_1['Const'] = 1.0\n",
    "data_1['month'] = data['month']\n",
    "\n",
    "param = param_data.copy()"
   ]
  },
  {
   "cell_type": "markdown",
   "metadata": {},
   "source": [
    "### Dropping constants"
   ]
  },
  {
   "cell_type": "code",
   "execution_count": 26,
   "metadata": {
    "collapsed": true
   },
   "outputs": [],
   "source": [
    "for p in param:\n",
    "    if np.std(data_1[p]) == 0:\n",
    "        print ('column ' + p + ' has no variance')\n",
    "        del data_1[p]"
   ]
  },
  {
   "cell_type": "markdown",
   "metadata": {},
   "source": [
    "### Generating lags and deltas"
   ]
  },
  {
   "cell_type": "code",
   "execution_count": 27,
   "metadata": {
    "collapsed": true
   },
   "outputs": [],
   "source": [
    "L_param = []\n",
    "for feat in param:\n",
    "    data_1[feat + '_d1'] = data_1[feat] - data_1[feat].shift(1)\n",
    "    L_param.append(feat + '_d1')\n",
    "\n",
    "for L in range(1,2):\n",
    "    data_1[y + '_L' + str(L)] = data_1[y].shift(L)\n",
    "    L_param.append(y + '_L' + str(L))\n",
    "    \n",
    "for L in range(2,3):\n",
    "    data_1[y + '_d' + str(L)] = data_1[y].shift(L-1) - data_1[y].shift(L)\n",
    "    L_param.append(y + '_d' + str(L))\n",
    "    \n",
    "param.extend(L_param)   \n",
    "data_1 = data_1.dropna()"
   ]
  },
  {
   "cell_type": "markdown",
   "metadata": {},
   "source": [
    "### Checking collinearity"
   ]
  },
  {
   "cell_type": "code",
   "execution_count": 28,
   "metadata": {
    "scrolled": false
   },
   "outputs": [
    {
     "name": "stdout",
     "output_type": "stream",
     "text": [
      "Correlation between  USD  and  Нефть марки urals  is 0.859\n",
      "Correlation between  NDS_TERITORY_INTERPOLATED  and  Unemployment rate  is 0.836\n",
      "Correlation between  USD_d1  and  Нефть марки urals_d1  is 0.833\n",
      "Correlation between  PROPERTY_TERRITORY_INTERPOLATED_d1  and  realGDP_d1  is 0.866\n",
      "Correlation between  TRANSPORT_TERRITORY_INTERPOLATED_d1  and  PROPERTY_TERRITORY_INTERPOLATED_d1  is 0.845\n"
     ]
    }
   ],
   "source": [
    "to_remove = []\n",
    "for i in range(len(param)):\n",
    "    for j in range(i):\n",
    "        cr = abs(data_1[param].corr().iloc[i,j])\n",
    "        if (cr > 0.8) and (param[i] not in to_remove) and (param[j] not in to_remove):           \n",
    "            print ('Correlation between ', param[i], ' and ', param[j], ' is %0.3f' % cr)\n",
    "            to_remove.append(param[j])"
   ]
  },
  {
   "cell_type": "code",
   "execution_count": 29,
   "metadata": {
    "collapsed": true
   },
   "outputs": [],
   "source": [
    "for rem in to_remove:\n",
    "    param.remove(rem)\n",
    "    del data_1[rem]\n",
    "    \n",
    "param.extend(['Const', 'month'])"
   ]
  },
  {
   "cell_type": "markdown",
   "metadata": {},
   "source": [
    "## Step 6. Feature selection with RFECV on Ridge"
   ]
  },
  {
   "cell_type": "code",
   "execution_count": 30,
   "metadata": {},
   "outputs": [
    {
     "data": {
      "text/html": [
       "<div>\n",
       "<style>\n",
       "    .dataframe thead tr:only-child th {\n",
       "        text-align: right;\n",
       "    }\n",
       "\n",
       "    .dataframe thead th {\n",
       "        text-align: left;\n",
       "    }\n",
       "\n",
       "    .dataframe tbody tr th {\n",
       "        vertical-align: top;\n",
       "    }\n",
       "</style>\n",
       "<table border=\"1\" class=\"dataframe\">\n",
       "  <thead>\n",
       "    <tr style=\"text-align: right;\">\n",
       "      <th></th>\n",
       "      <th>Rank</th>\n",
       "    </tr>\n",
       "  </thead>\n",
       "  <tbody>\n",
       "    <tr>\n",
       "      <th>AREA_TERITORY_INTERPOLATED</th>\n",
       "      <td>1</td>\n",
       "    </tr>\n",
       "    <tr>\n",
       "      <th>target_L1</th>\n",
       "      <td>1</td>\n",
       "    </tr>\n",
       "    <tr>\n",
       "      <th>NDFL_TERRITORY_INTERPOLATED</th>\n",
       "      <td>2</td>\n",
       "    </tr>\n",
       "    <tr>\n",
       "      <th>NDFL_TERRITORY_INTERPOLATED_d1</th>\n",
       "      <td>3</td>\n",
       "    </tr>\n",
       "    <tr>\n",
       "      <th>AREA_TERITORY_INTERPOLATED_d1</th>\n",
       "      <td>4</td>\n",
       "    </tr>\n",
       "    <tr>\n",
       "      <th>NDS_TERITORY_INTERPOLATED</th>\n",
       "      <td>5</td>\n",
       "    </tr>\n",
       "    <tr>\n",
       "      <th>NDS_TERITORY_INTERPOLATED_d1</th>\n",
       "      <td>6</td>\n",
       "    </tr>\n",
       "    <tr>\n",
       "      <th>TRANSPORT_TERRITORY_INTERPOLATED_d1</th>\n",
       "      <td>7</td>\n",
       "    </tr>\n",
       "    <tr>\n",
       "      <th>target_d2</th>\n",
       "      <td>8</td>\n",
       "    </tr>\n",
       "    <tr>\n",
       "      <th>TRANSPORT_TERRITORY_INTERPOLATED</th>\n",
       "      <td>9</td>\n",
       "    </tr>\n",
       "    <tr>\n",
       "      <th>PROPERTY_TERRITORY_INTERPOLATED</th>\n",
       "      <td>10</td>\n",
       "    </tr>\n",
       "    <tr>\n",
       "      <th>realGDP</th>\n",
       "      <td>11</td>\n",
       "    </tr>\n",
       "    <tr>\n",
       "      <th>OPEX_TERRITORY_INTERPOLATED</th>\n",
       "      <td>12</td>\n",
       "    </tr>\n",
       "    <tr>\n",
       "      <th>OPEX_TERRITORY_INTERPOLATED_d1</th>\n",
       "      <td>13</td>\n",
       "    </tr>\n",
       "    <tr>\n",
       "      <th>month</th>\n",
       "      <td>14</td>\n",
       "    </tr>\n",
       "    <tr>\n",
       "      <th>USD</th>\n",
       "      <td>15</td>\n",
       "    </tr>\n",
       "    <tr>\n",
       "      <th>Trade balance_d1</th>\n",
       "      <td>16</td>\n",
       "    </tr>\n",
       "    <tr>\n",
       "      <th>USD_d1</th>\n",
       "      <td>17</td>\n",
       "    </tr>\n",
       "    <tr>\n",
       "      <th>Trade balance</th>\n",
       "      <td>18</td>\n",
       "    </tr>\n",
       "    <tr>\n",
       "      <th>Unemployment rate_d1</th>\n",
       "      <td>19</td>\n",
       "    </tr>\n",
       "  </tbody>\n",
       "</table>\n",
       "</div>"
      ],
      "text/plain": [
       "                                     Rank\n",
       "AREA_TERITORY_INTERPOLATED              1\n",
       "target_L1                               1\n",
       "NDFL_TERRITORY_INTERPOLATED             2\n",
       "NDFL_TERRITORY_INTERPOLATED_d1          3\n",
       "AREA_TERITORY_INTERPOLATED_d1           4\n",
       "NDS_TERITORY_INTERPOLATED               5\n",
       "NDS_TERITORY_INTERPOLATED_d1            6\n",
       "TRANSPORT_TERRITORY_INTERPOLATED_d1     7\n",
       "target_d2                               8\n",
       "TRANSPORT_TERRITORY_INTERPOLATED        9\n",
       "PROPERTY_TERRITORY_INTERPOLATED        10\n",
       "realGDP                                11\n",
       "OPEX_TERRITORY_INTERPOLATED            12\n",
       "OPEX_TERRITORY_INTERPOLATED_d1         13\n",
       "month                                  14\n",
       "USD                                    15\n",
       "Trade balance_d1                       16\n",
       "USD_d1                                 17\n",
       "Trade balance                          18\n",
       "Unemployment rate_d1                   19"
      ]
     },
     "execution_count": 30,
     "metadata": {},
     "output_type": "execute_result"
    }
   ],
   "source": [
    "data_train = data_1.iloc[:split_index]\n",
    "data_test = data_1.iloc[split_index:]\n",
    "\n",
    "#estm_s3 = RandomForestRegressor(n_estimators=250, criterion='mae', max_depth=3, max_features='auto')\n",
    "\n",
    "estm_s3 = Ridge(alpha = 1e+12)\n",
    "selector = RFECV(estm_s3, cv=KFold(n_splits = CV_splits), scoring=MAE_scorer, step=1)\n",
    "selector = selector.fit(data_train[param], data_train[y])\n",
    "\n",
    "Select_Res = pd.DataFrame(selector.ranking_, index = param).rename(\n",
    "             columns = {0: 'Rank'}).sort_values(by = 'Rank', axis = 0).iloc[:20]\n",
    "\n",
    "Select_Res"
   ]
  },
  {
   "cell_type": "markdown",
   "metadata": {},
   "source": [
    "### Feature selection"
   ]
  },
  {
   "cell_type": "code",
   "execution_count": 31,
   "metadata": {},
   "outputs": [
    {
     "data": {
      "text/plain": [
       "['AREA_TERITORY_INTERPOLATED', 'target_L1', 'NDFL_TERRITORY_INTERPOLATED']"
      ]
     },
     "execution_count": 31,
     "metadata": {},
     "output_type": "execute_result"
    }
   ],
   "source": [
    "Selected_features = list(Select_Res.index)[:3]\n",
    "\n",
    "Selected_features"
   ]
  },
  {
   "cell_type": "markdown",
   "metadata": {},
   "source": [
    "### Checking multicollinearity"
   ]
  },
  {
   "cell_type": "code",
   "execution_count": 32,
   "metadata": {},
   "outputs": [
    {
     "name": "stdout",
     "output_type": "stream",
     "text": [
      "Condition number is  1.1844506747350119\n"
     ]
    }
   ],
   "source": [
    "# Is condition number less than 15?\n",
    "\n",
    "cov_m = data_1[Selected_features].corr().values\n",
    "eig_values, eig_vectors = np.linalg.eig(cov_m)\n",
    "print (\"Condition number is \", np.sqrt(np.max(eig_values) / np.min(eig_values)))"
   ]
  },
  {
   "cell_type": "markdown",
   "metadata": {},
   "source": [
    "\n",
    "## Step 7. Model choice"
   ]
  },
  {
   "cell_type": "code",
   "execution_count": 33,
   "metadata": {},
   "outputs": [],
   "source": [
    "data_2 = data_1.copy()\n",
    "\n",
    "CV_splits = len(data_2.index) // 3\n",
    "\n",
    "test_len = 0\n",
    "split_index = len(data_2.index) - test_len\n",
    "\n",
    "data_train = data_2.iloc[:split_index]\n",
    "data_test = data_2.iloc[split_index:]"
   ]
  },
  {
   "cell_type": "markdown",
   "metadata": {},
   "source": [
    "### Linear regression"
   ]
  },
  {
   "cell_type": "code",
   "execution_count": 34,
   "metadata": {},
   "outputs": [
    {
     "name": "stdout",
     "output_type": "stream",
     "text": [
      "                            OLS Regression Results                            \n",
      "==============================================================================\n",
      "Dep. Variable:                 target   R-squared:                       0.902\n",
      "Model:                            OLS   Adj. R-squared:                  0.896\n",
      "Method:                 Least Squares   F-statistic:                     153.5\n",
      "Date:                Tue, 04 Dec 2018   Prob (F-statistic):           3.26e-25\n",
      "Time:                        17:26:03   Log-Likelihood:                -852.60\n",
      "No. Observations:                  53   AIC:                             1711.\n",
      "Df Residuals:                      50   BIC:                             1717.\n",
      "Df Model:                           3                                         \n",
      "Covariance Type:            nonrobust                                         \n",
      "===============================================================================================\n",
      "                                  coef    std err          t      P>|t|      [0.025      0.975]\n",
      "-----------------------------------------------------------------------------------------------\n",
      "AREA_TERITORY_INTERPOLATED     -1.7388      1.561     -1.114      0.271      -4.874       1.397\n",
      "target_L1                       0.8906      0.060     14.925      0.000       0.771       1.010\n",
      "NDFL_TERRITORY_INTERPOLATED     0.0271      0.015      1.782      0.081      -0.003       0.058\n",
      "==============================================================================\n",
      "Omnibus:                      103.016   Durbin-Watson:                   1.925\n",
      "Prob(Omnibus):                  0.000   Jarque-Bera (JB):             3186.939\n",
      "Skew:                           5.696   Prob(JB):                         0.00\n",
      "Kurtosis:                      39.241   Cond. No.                         323.\n",
      "==============================================================================\n",
      "\n",
      "Warnings:\n",
      "[1] Standard Errors assume that the covariance matrix of the errors is correctly specified.\n"
     ]
    }
   ],
   "source": [
    "with warnings.catch_warnings():\n",
    "    warnings.simplefilter(\"ignore\")\n",
    "    OLS_reg = OLS(endog = data_train[y], exog = data_train[Selected_features]).fit()\n",
    "    print (OLS_reg.summary())"
   ]
  },
  {
   "cell_type": "code",
   "execution_count": 35,
   "metadata": {},
   "outputs": [
    {
     "data": {
      "image/png": "[encoded data removed]",
      "text/plain": [
       "<matplotlib.figure.Figure at 0x215ae898>"
      ]
     },
     "metadata": {},
     "output_type": "display_data"
    },
    {
     "name": "stdout",
     "output_type": "stream",
     "text": [
      "Ljung-Box test:\n",
      "     p-value      stat\n",
      "1   0.787335  0.072777\n",
      "2   0.212039  3.101969\n",
      "3   0.310474  3.580473\n",
      "4   0.464416  3.589401\n",
      "5   0.609757  3.590390\n",
      "6   0.660226  4.121587\n",
      "7   0.716155  4.537848\n",
      "8   0.778647  4.800731\n",
      "9   0.850341  4.812456\n",
      "10  0.897939  4.897194\n",
      "11  0.935642  4.905815\n",
      "12  0.941641  5.440161\n"
     ]
    }
   ],
   "source": [
    "estm = LinearRegression(fit_intercept = False)\n",
    "estm.fit(data_train[Selected_features], data_train[y])\n",
    "\n",
    "plot_predicts(estimator = estm, X = data_train[Selected_features], y = data_train[y], \n",
    "              x_axis = data_train['date'])"
   ]
  },
  {
   "cell_type": "code",
   "execution_count": 36,
   "metadata": {},
   "outputs": [
    {
     "name": "stdout",
     "output_type": "stream",
     "text": [
      "KFold(n_splits=17, random_state=None, shuffle=False)\n",
      "\n",
      "Average MAE on the cross-validation set is 1176826.454.\n",
      "Average MAPE on the cross-validation set is 164.759%.\n",
      "Average CAPE on the cross-validation set is 164.458%.\n",
      "\n",
      "Last 3 months MAE is 472430.460.\n",
      "Last 3 months MAPE is 4.174%.\n",
      "Last 3 months CAPE is 3.126%.\n"
     ]
    }
   ],
   "source": [
    "estm = LinearRegression(fit_intercept = False)\n",
    "print_KFold_scores(estimator = estm, X = data_train[Selected_features], y = data_train[y])"
   ]
  },
  {
   "cell_type": "markdown",
   "metadata": {},
   "source": [
    "### Linear GAM"
   ]
  },
  {
   "cell_type": "code",
   "execution_count": 37,
   "metadata": {
    "scrolled": false
   },
   "outputs": [
    {
     "name": "stdout",
     "output_type": "stream",
     "text": [
      "Grid scores on development set:\n",
      "-757421.764 (+/-2563847.046) for {'lam': 0.01, 'n_splines': 3, 'spline_order': 2}\n",
      "-1128664.321 (+/-2726615.001) for {'lam': 0.01, 'n_splines': 4, 'spline_order': 2}\n",
      "-1677151.892 (+/-3788168.779) for {'lam': 0.01, 'n_splines': 5, 'spline_order': 2}\n",
      "-921441.364 (+/-2617615.037) for {'lam': 0.1, 'n_splines': 3, 'spline_order': 2}\n",
      "-717016.623 (+/-2671945.739) for {'lam': 0.1, 'n_splines': 4, 'spline_order': 2}\n",
      "-760208.549 (+/-2675168.566) for {'lam': 0.1, 'n_splines': 5, 'spline_order': 2}\n",
      "-1045834.786 (+/-2666514.488) for {'lam': 0.25, 'n_splines': 3, 'spline_order': 2}\n",
      "-799042.692 (+/-2672678.423) for {'lam': 0.25, 'n_splines': 4, 'spline_order': 2}\n",
      "-680645.022 (+/-2679799.497) for {'lam': 0.25, 'n_splines': 5, 'spline_order': 2}\n",
      "-1112889.821 (+/-2702244.506) for {'lam': 0.5, 'n_splines': 3, 'spline_order': 2}\n",
      "-882347.994 (+/-2669803.957) for {'lam': 0.5, 'n_splines': 4, 'spline_order': 2}\n",
      "-717296.137 (+/-2677487.607) for {'lam': 0.5, 'n_splines': 5, 'spline_order': 2}\n",
      "-1140793.392 (+/-2717826.351) for {'lam': 0.75, 'n_splines': 3, 'spline_order': 2}\n",
      "-934379.497 (+/-2664847.595) for {'lam': 0.75, 'n_splines': 4, 'spline_order': 2}\n",
      "-751420.696 (+/-2680799.447) for {'lam': 0.75, 'n_splines': 5, 'spline_order': 2}\n",
      "-1150732.736 (+/-2723798.777) for {'lam': 0.9, 'n_splines': 3, 'spline_order': 2}\n",
      "-956555.154 (+/-2663687.482) for {'lam': 0.9, 'n_splines': 4, 'spline_order': 2}\n",
      "-769162.894 (+/-2681410.192) for {'lam': 0.9, 'n_splines': 5, 'spline_order': 2}\n",
      "-1155607.556 (+/-2726332.424) for {'lam': 0.99, 'n_splines': 3, 'spline_order': 2}\n",
      "-968272.278 (+/-2662725.091) for {'lam': 0.99, 'n_splines': 4, 'spline_order': 2}\n",
      "-778659.517 (+/-2681616.486) for {'lam': 0.99, 'n_splines': 5, 'spline_order': 2}\n",
      "\n",
      "Best score is -680645.022. Best parameters set found on development set:\n",
      "{'lam': 0.25, 'n_splines': 5, 'spline_order': 2}\n"
     ]
    },
    {
     "name": "stderr",
     "output_type": "stream",
     "text": [
      "C:\\Anaconda3\\lib\\site-packages\\sklearn\\model_selection\\_search.py:841: DeprecationWarning: The default of the `iid` parameter will change from True to False in version 0.22 and will be removed in 0.24. This will change numeric results when test-set sizes are unequal.\n",
      "  DeprecationWarning)\n"
     ]
    }
   ],
   "source": [
    "dtype = 'numerical'\n",
    "penalties = 'derivative'\n",
    "fit_splines = True\n",
    "fit_linear = False\n",
    "\n",
    "estm = LinearGAM_sklearn(fit_intercept = False, fit_linear = fit_linear, fit_splines = fit_splines,\n",
    "                         penalties = penalties, dtype = dtype)\n",
    "\n",
    "tuned_parameters = [{'lam': [0.01, 0.1, 0.25, 0.5, 0.75, 0.9, 0.99],\n",
    "                     'n_splines': [3,4,5],\n",
    "                     'spline_order': [2]\n",
    "                   }]\n",
    "\n",
    "grid = GridSearchCV(estimator=estm, param_grid=tuned_parameters, cv=KFold(n_splits=CV_splits), scoring=MAE_scorer)\n",
    "fit_grid_and_print(grid = grid, X = data_train[Selected_features], y = data_train[y])"
   ]
  },
  {
   "cell_type": "code",
   "execution_count": 38,
   "metadata": {},
   "outputs": [
    {
     "data": {
      "image/png": "[encoded data removed]",
      "text/plain": [
       "<matplotlib.figure.Figure at 0x2052f630>"
      ]
     },
     "metadata": {},
     "output_type": "display_data"
    },
    {
     "name": "stdout",
     "output_type": "stream",
     "text": [
      "Ljung-Box test:\n",
      "     p-value       stat\n",
      "1   0.746198   0.104753\n",
      "2   0.001047  13.722899\n",
      "3   0.003238  13.768579\n",
      "4   0.007206  14.028068\n",
      "5   0.015391  14.034652\n",
      "6   0.029242  14.035540\n",
      "7   0.050475  14.039983\n",
      "8   0.079687  14.080652\n",
      "9   0.118750  14.101796\n",
      "10  0.134632  14.930077\n",
      "11  0.176629  15.129859\n",
      "12  0.195970  15.897631\n"
     ]
    }
   ],
   "source": [
    "estm.set_params(**grid.best_params_)\n",
    "estm.fit(X = data_train[Selected_features], y = data_train[y])\n",
    "\n",
    "plot_predicts(estimator = estm, X = data_train[Selected_features], y = data_train[y], \n",
    "              x_axis = data_train['date'])"
   ]
  },
  {
   "cell_type": "code",
   "execution_count": 39,
   "metadata": {},
   "outputs": [
    {
     "name": "stdout",
     "output_type": "stream",
     "text": [
      "KFold(n_splits=17, random_state=None, shuffle=False)\n",
      "\n",
      "Average MAE on the cross-validation set is 705141.908.\n",
      "Average MAPE on the cross-validation set is 24.103%.\n",
      "Average CAPE on the cross-validation set is 21.859%.\n",
      "\n",
      "Last 3 months MAE is 374413.068.\n",
      "Last 3 months MAPE is 3.308%.\n",
      "Last 3 months CAPE is 0.528%.\n"
     ]
    }
   ],
   "source": [
    "estm.set_params(**grid.best_params_)\n",
    "print_KFold_scores(estimator = estm, X = data_train[Selected_features], y = data_train[y])"
   ]
  },
  {
   "cell_type": "code",
   "execution_count": 40,
   "metadata": {
    "collapsed": true
   },
   "outputs": [],
   "source": [
    "estm.set_params(**grid.best_params_)\n",
    "estm.fit(X = data_train[Selected_features], y = data_train[y])\n",
    "\n",
    "with open('model.pkl', \"wb\") as f:\n",
    "    pickle.dump(estm.model, f)\n",
    "\n",
    "with open('Selected_features.pkl', \"wb\") as f:\n",
    "    pickle.dump(Selected_features, f)"
   ]
  },
  {
   "cell_type": "markdown",
   "metadata": {},
   "source": [
    "# Prediction"
   ]
  },
  {
   "cell_type": "code",
   "execution_count": 41,
   "metadata": {
    "collapsed": true
   },
   "outputs": [],
   "source": [
    "with open('model.pkl', \"rb\") as f:\n",
    "    estm = pickle.load(f)\n",
    "\n",
    "with open('Selected_features.pkl', \"rb\") as f:\n",
    "    Selected_features = pickle.load(f)"
   ]
  },
  {
   "cell_type": "code",
   "execution_count": 42,
   "metadata": {
    "collapsed": true
   },
   "outputs": [],
   "source": [
    "file_name = os.getcwd().split('\\\\')[-1]\n",
    "\n",
    "xls = pd.ExcelFile(file_name + \".xlsx\")\n",
    "data_p = xls.parse(xls.sheet_names[0]).sort_values('date')\n",
    "\n",
    "y = 'target'\n",
    "\n",
    "data_p['target_true'] = data_p[y]\n",
    "data_p['time_index'] = data_p.index.astype(float)\n",
    "data_p[\"month\"] = data_p[\"date\"].apply(lambda d: d.month)\n",
    "data_p[\"year\"] = data_p[\"date\"].apply(lambda d: d.year)\n",
    "\n",
    "# Set hold-out size here\n",
    "test_len = 0\n",
    "split_index = len(data_p[y].dropna().index) - test_len"
   ]
  },
  {
   "cell_type": "code",
   "execution_count": 162,
   "metadata": {},
   "outputs": [
    {
     "data": {
      "image/png": "[encoded data removed]",
      "text/plain": [
       "<matplotlib.figure.Figure at 0xc711d30>"
      ]
     },
     "metadata": {},
     "output_type": "display_data"
    }
   ],
   "source": [
    "# Remove obs in hold-out set\n",
    "data_p.loc[data_p[y].dropna().iloc[split_index:].index, y] = np.nan\n",
    "data_iter = data_p[data_p[y].isnull()].copy()\n",
    "\n",
    "# Refit model\n",
    "data_X = generate_features(data_p.iloc[:split_index], y, Selected_features)\n",
    "estm.fit(X = data_X[Selected_features], y = data_X[y])\n",
    "\n",
    "# Iterate through missing targets\n",
    "for ind, row in data_iter.iterrows():\n",
    "    data_X = generate_features(data_p, y, Selected_features)\n",
    "    pred = estm.predict(data_X[Selected_features].loc[ind].values.reshape(1,-1))\n",
    "    data_p.loc[ind, y] = pred[0]\n",
    "\n",
    "data_p.loc[data_p[y].dropna().iloc[:split_index].index, y] = np.nan\n",
    "\n",
    "# Plot results\n",
    "fig, ax = plt.subplots(figsize = (15, 4))\n",
    "ax.plot(data_p['date'], data_p['target_true'], label='Actual', color = 'blue')\n",
    "ax.plot(data_p['date'], data_p[y], label='Predict', color = 'red', marker = \"o\", linestyle = 'none')\n",
    "plt.title(y)\n",
    "plt.legend(loc = 'upper left')\n",
    "plt.show()"
   ]
  },
  {
   "cell_type": "code",
   "execution_count": 163,
   "metadata": {
    "scrolled": true
   },
   "outputs": [
    {
     "data": {
      "text/html": [
       "<div>\n",
       "<style>\n",
       "    .dataframe thead tr:only-child th {\n",
       "        text-align: right;\n",
       "    }\n",
       "\n",
       "    .dataframe thead th {\n",
       "        text-align: left;\n",
       "    }\n",
       "\n",
       "    .dataframe tbody tr th {\n",
       "        vertical-align: top;\n",
       "    }\n",
       "</style>\n",
       "<table border=\"1\" class=\"dataframe\">\n",
       "  <thead>\n",
       "    <tr style=\"text-align: right;\">\n",
       "      <th></th>\n",
       "      <th>target_true</th>\n",
       "      <th>target</th>\n",
       "    </tr>\n",
       "  </thead>\n",
       "  <tbody>\n",
       "    <tr>\n",
       "      <th>0</th>\n",
       "      <td>2.455932e+05</td>\n",
       "      <td>NaN</td>\n",
       "    </tr>\n",
       "    <tr>\n",
       "      <th>1</th>\n",
       "      <td>2.455932e+05</td>\n",
       "      <td>NaN</td>\n",
       "    </tr>\n",
       "    <tr>\n",
       "      <th>2</th>\n",
       "      <td>2.455932e+05</td>\n",
       "      <td>NaN</td>\n",
       "    </tr>\n",
       "    <tr>\n",
       "      <th>3</th>\n",
       "      <td>2.455932e+05</td>\n",
       "      <td>NaN</td>\n",
       "    </tr>\n",
       "    <tr>\n",
       "      <th>4</th>\n",
       "      <td>2.806780e+05</td>\n",
       "      <td>NaN</td>\n",
       "    </tr>\n",
       "    <tr>\n",
       "      <th>5</th>\n",
       "      <td>2.806780e+05</td>\n",
       "      <td>NaN</td>\n",
       "    </tr>\n",
       "    <tr>\n",
       "      <th>6</th>\n",
       "      <td>2.806780e+05</td>\n",
       "      <td>NaN</td>\n",
       "    </tr>\n",
       "    <tr>\n",
       "      <th>7</th>\n",
       "      <td>2.806780e+05</td>\n",
       "      <td>NaN</td>\n",
       "    </tr>\n",
       "    <tr>\n",
       "      <th>8</th>\n",
       "      <td>2.806780e+05</td>\n",
       "      <td>NaN</td>\n",
       "    </tr>\n",
       "    <tr>\n",
       "      <th>9</th>\n",
       "      <td>2.806780e+05</td>\n",
       "      <td>NaN</td>\n",
       "    </tr>\n",
       "    <tr>\n",
       "      <th>10</th>\n",
       "      <td>2.806780e+05</td>\n",
       "      <td>NaN</td>\n",
       "    </tr>\n",
       "    <tr>\n",
       "      <th>11</th>\n",
       "      <td>2.806780e+05</td>\n",
       "      <td>NaN</td>\n",
       "    </tr>\n",
       "    <tr>\n",
       "      <th>12</th>\n",
       "      <td>2.806780e+05</td>\n",
       "      <td>NaN</td>\n",
       "    </tr>\n",
       "    <tr>\n",
       "      <th>13</th>\n",
       "      <td>2.806780e+05</td>\n",
       "      <td>NaN</td>\n",
       "    </tr>\n",
       "    <tr>\n",
       "      <th>14</th>\n",
       "      <td>2.806780e+05</td>\n",
       "      <td>NaN</td>\n",
       "    </tr>\n",
       "    <tr>\n",
       "      <th>15</th>\n",
       "      <td>2.806780e+05</td>\n",
       "      <td>NaN</td>\n",
       "    </tr>\n",
       "    <tr>\n",
       "      <th>16</th>\n",
       "      <td>2.806780e+05</td>\n",
       "      <td>NaN</td>\n",
       "    </tr>\n",
       "    <tr>\n",
       "      <th>17</th>\n",
       "      <td>2.806780e+05</td>\n",
       "      <td>NaN</td>\n",
       "    </tr>\n",
       "    <tr>\n",
       "      <th>18</th>\n",
       "      <td>2.806780e+05</td>\n",
       "      <td>NaN</td>\n",
       "    </tr>\n",
       "    <tr>\n",
       "      <th>19</th>\n",
       "      <td>2.806780e+05</td>\n",
       "      <td>NaN</td>\n",
       "    </tr>\n",
       "    <tr>\n",
       "      <th>20</th>\n",
       "      <td>2.806780e+05</td>\n",
       "      <td>NaN</td>\n",
       "    </tr>\n",
       "    <tr>\n",
       "      <th>21</th>\n",
       "      <td>2.806780e+05</td>\n",
       "      <td>NaN</td>\n",
       "    </tr>\n",
       "    <tr>\n",
       "      <th>22</th>\n",
       "      <td>2.806780e+05</td>\n",
       "      <td>NaN</td>\n",
       "    </tr>\n",
       "    <tr>\n",
       "      <th>23</th>\n",
       "      <td>2.806780e+05</td>\n",
       "      <td>NaN</td>\n",
       "    </tr>\n",
       "    <tr>\n",
       "      <th>24</th>\n",
       "      <td>2.806780e+05</td>\n",
       "      <td>NaN</td>\n",
       "    </tr>\n",
       "    <tr>\n",
       "      <th>25</th>\n",
       "      <td>2.806780e+05</td>\n",
       "      <td>NaN</td>\n",
       "    </tr>\n",
       "    <tr>\n",
       "      <th>26</th>\n",
       "      <td>2.806780e+05</td>\n",
       "      <td>NaN</td>\n",
       "    </tr>\n",
       "    <tr>\n",
       "      <th>27</th>\n",
       "      <td>2.806780e+05</td>\n",
       "      <td>NaN</td>\n",
       "    </tr>\n",
       "    <tr>\n",
       "      <th>28</th>\n",
       "      <td>4.324447e+05</td>\n",
       "      <td>NaN</td>\n",
       "    </tr>\n",
       "    <tr>\n",
       "      <th>29</th>\n",
       "      <td>4.324447e+05</td>\n",
       "      <td>NaN</td>\n",
       "    </tr>\n",
       "    <tr>\n",
       "      <th>...</th>\n",
       "      <td>...</td>\n",
       "      <td>...</td>\n",
       "    </tr>\n",
       "    <tr>\n",
       "      <th>37</th>\n",
       "      <td>1.029012e+07</td>\n",
       "      <td>NaN</td>\n",
       "    </tr>\n",
       "    <tr>\n",
       "      <th>38</th>\n",
       "      <td>1.017704e+07</td>\n",
       "      <td>NaN</td>\n",
       "    </tr>\n",
       "    <tr>\n",
       "      <th>39</th>\n",
       "      <td>1.018213e+07</td>\n",
       "      <td>NaN</td>\n",
       "    </tr>\n",
       "    <tr>\n",
       "      <th>40</th>\n",
       "      <td>1.005982e+07</td>\n",
       "      <td>NaN</td>\n",
       "    </tr>\n",
       "    <tr>\n",
       "      <th>41</th>\n",
       "      <td>1.002966e+07</td>\n",
       "      <td>NaN</td>\n",
       "    </tr>\n",
       "    <tr>\n",
       "      <th>42</th>\n",
       "      <td>9.652379e+06</td>\n",
       "      <td>NaN</td>\n",
       "    </tr>\n",
       "    <tr>\n",
       "      <th>43</th>\n",
       "      <td>9.629452e+06</td>\n",
       "      <td>NaN</td>\n",
       "    </tr>\n",
       "    <tr>\n",
       "      <th>44</th>\n",
       "      <td>9.629452e+06</td>\n",
       "      <td>NaN</td>\n",
       "    </tr>\n",
       "    <tr>\n",
       "      <th>45</th>\n",
       "      <td>1.168637e+07</td>\n",
       "      <td>NaN</td>\n",
       "    </tr>\n",
       "    <tr>\n",
       "      <th>46</th>\n",
       "      <td>1.172212e+07</td>\n",
       "      <td>NaN</td>\n",
       "    </tr>\n",
       "    <tr>\n",
       "      <th>47</th>\n",
       "      <td>1.167127e+07</td>\n",
       "      <td>NaN</td>\n",
       "    </tr>\n",
       "    <tr>\n",
       "      <th>48</th>\n",
       "      <td>1.158317e+07</td>\n",
       "      <td>NaN</td>\n",
       "    </tr>\n",
       "    <tr>\n",
       "      <th>49</th>\n",
       "      <td>1.158317e+07</td>\n",
       "      <td>NaN</td>\n",
       "    </tr>\n",
       "    <tr>\n",
       "      <th>50</th>\n",
       "      <td>1.158317e+07</td>\n",
       "      <td>NaN</td>\n",
       "    </tr>\n",
       "    <tr>\n",
       "      <th>51</th>\n",
       "      <td>1.158317e+07</td>\n",
       "      <td>NaN</td>\n",
       "    </tr>\n",
       "    <tr>\n",
       "      <th>52</th>\n",
       "      <td>1.158317e+07</td>\n",
       "      <td>NaN</td>\n",
       "    </tr>\n",
       "    <tr>\n",
       "      <th>53</th>\n",
       "      <td>1.158317e+07</td>\n",
       "      <td>NaN</td>\n",
       "    </tr>\n",
       "    <tr>\n",
       "      <th>54</th>\n",
       "      <td>1.078556e+07</td>\n",
       "      <td>NaN</td>\n",
       "    </tr>\n",
       "    <tr>\n",
       "      <th>55</th>\n",
       "      <td>NaN</td>\n",
       "      <td>1.042235e+07</td>\n",
       "    </tr>\n",
       "    <tr>\n",
       "      <th>56</th>\n",
       "      <td>NaN</td>\n",
       "      <td>1.017725e+07</td>\n",
       "    </tr>\n",
       "    <tr>\n",
       "      <th>57</th>\n",
       "      <td>NaN</td>\n",
       "      <td>1.000924e+07</td>\n",
       "    </tr>\n",
       "    <tr>\n",
       "      <th>58</th>\n",
       "      <td>NaN</td>\n",
       "      <td>9.821810e+06</td>\n",
       "    </tr>\n",
       "    <tr>\n",
       "      <th>59</th>\n",
       "      <td>NaN</td>\n",
       "      <td>9.690820e+06</td>\n",
       "    </tr>\n",
       "    <tr>\n",
       "      <th>60</th>\n",
       "      <td>NaN</td>\n",
       "      <td>9.598548e+06</td>\n",
       "    </tr>\n",
       "    <tr>\n",
       "      <th>61</th>\n",
       "      <td>NaN</td>\n",
       "      <td>9.658360e+06</td>\n",
       "    </tr>\n",
       "    <tr>\n",
       "      <th>62</th>\n",
       "      <td>NaN</td>\n",
       "      <td>9.700759e+06</td>\n",
       "    </tr>\n",
       "    <tr>\n",
       "      <th>63</th>\n",
       "      <td>NaN</td>\n",
       "      <td>9.730740e+06</td>\n",
       "    </tr>\n",
       "    <tr>\n",
       "      <th>64</th>\n",
       "      <td>NaN</td>\n",
       "      <td>9.909228e+06</td>\n",
       "    </tr>\n",
       "    <tr>\n",
       "      <th>65</th>\n",
       "      <td>NaN</td>\n",
       "      <td>1.003456e+07</td>\n",
       "    </tr>\n",
       "    <tr>\n",
       "      <th>66</th>\n",
       "      <td>NaN</td>\n",
       "      <td>1.012190e+07</td>\n",
       "    </tr>\n",
       "  </tbody>\n",
       "</table>\n",
       "<p>67 rows × 2 columns</p>\n",
       "</div>"
      ],
      "text/plain": [
       "     target_true        target\n",
       "0   2.455932e+05           NaN\n",
       "1   2.455932e+05           NaN\n",
       "2   2.455932e+05           NaN\n",
       "3   2.455932e+05           NaN\n",
       "4   2.806780e+05           NaN\n",
       "5   2.806780e+05           NaN\n",
       "6   2.806780e+05           NaN\n",
       "7   2.806780e+05           NaN\n",
       "8   2.806780e+05           NaN\n",
       "9   2.806780e+05           NaN\n",
       "10  2.806780e+05           NaN\n",
       "11  2.806780e+05           NaN\n",
       "12  2.806780e+05           NaN\n",
       "13  2.806780e+05           NaN\n",
       "14  2.806780e+05           NaN\n",
       "15  2.806780e+05           NaN\n",
       "16  2.806780e+05           NaN\n",
       "17  2.806780e+05           NaN\n",
       "18  2.806780e+05           NaN\n",
       "19  2.806780e+05           NaN\n",
       "20  2.806780e+05           NaN\n",
       "21  2.806780e+05           NaN\n",
       "22  2.806780e+05           NaN\n",
       "23  2.806780e+05           NaN\n",
       "24  2.806780e+05           NaN\n",
       "25  2.806780e+05           NaN\n",
       "26  2.806780e+05           NaN\n",
       "27  2.806780e+05           NaN\n",
       "28  4.324447e+05           NaN\n",
       "29  4.324447e+05           NaN\n",
       "..           ...           ...\n",
       "37  1.029012e+07           NaN\n",
       "38  1.017704e+07           NaN\n",
       "39  1.018213e+07           NaN\n",
       "40  1.005982e+07           NaN\n",
       "41  1.002966e+07           NaN\n",
       "42  9.652379e+06           NaN\n",
       "43  9.629452e+06           NaN\n",
       "44  9.629452e+06           NaN\n",
       "45  1.168637e+07           NaN\n",
       "46  1.172212e+07           NaN\n",
       "47  1.167127e+07           NaN\n",
       "48  1.158317e+07           NaN\n",
       "49  1.158317e+07           NaN\n",
       "50  1.158317e+07           NaN\n",
       "51  1.158317e+07           NaN\n",
       "52  1.158317e+07           NaN\n",
       "53  1.158317e+07           NaN\n",
       "54  1.078556e+07           NaN\n",
       "55           NaN  1.042235e+07\n",
       "56           NaN  1.017725e+07\n",
       "57           NaN  1.000924e+07\n",
       "58           NaN  9.821810e+06\n",
       "59           NaN  9.690820e+06\n",
       "60           NaN  9.598548e+06\n",
       "61           NaN  9.658360e+06\n",
       "62           NaN  9.700759e+06\n",
       "63           NaN  9.730740e+06\n",
       "64           NaN  9.909228e+06\n",
       "65           NaN  1.003456e+07\n",
       "66           NaN  1.012190e+07\n",
       "\n",
       "[67 rows x 2 columns]"
      ]
     },
     "execution_count": 163,
     "metadata": {},
     "output_type": "execute_result"
    }
   ],
   "source": [
    "data_p[['target_true', y]]"
   ]
  },
  {
   "cell_type": "code",
   "execution_count": 10,
   "metadata": {},
   "outputs": [
    {
     "ename": "NameError",
     "evalue": "name 'data_p' is not defined",
     "output_type": "error",
     "traceback": [
      "\u001b[1;31m---------------------------------------------------------------------------\u001b[0m",
      "\u001b[1;31mNameError\u001b[0m                                 Traceback (most recent call last)",
      "\u001b[1;32m<ipython-input-10-1c8d6b63040d>\u001b[0m in \u001b[0;36m<module>\u001b[1;34m()\u001b[0m\n\u001b[1;32m----> 1\u001b[1;33m \u001b[0mdata_p\u001b[0m\u001b[1;33m[\u001b[0m\u001b[1;34m'date'\u001b[0m\u001b[1;33m]\u001b[0m\u001b[1;33m\u001b[0m\u001b[0m\n\u001b[0m",
      "\u001b[1;31mNameError\u001b[0m: name 'data_p' is not defined"
     ]
    }
   ],
   "source": [
    "data_p['date']"
   ]
  },
  {
   "cell_type": "code",
   "execution_count": null,
   "metadata": {
    "collapsed": true
   },
   "outputs": [],
   "source": []
  }
 ],
 "metadata": {
  "anaconda-cloud": {},
  "kernelspec": {
   "display_name": "Python 3",
   "language": "python",
   "name": "python3"
  },
  "language_info": {
   "codemirror_mode": {
    "name": "ipython",
    "version": 3
   },
   "file_extension": ".py",
   "mimetype": "text/x-python",
   "name": "python",
   "nbconvert_exporter": "python",
   "pygments_lexer": "ipython3",
   "version": "3.6.1"
  }
 },
 "nbformat": 4,
 "nbformat_minor": 1
}
